{
 "cells": [
  {
   "cell_type": "code",
   "execution_count": 1,
   "metadata": {},
   "outputs": [],
   "source": [
    "from IPython.display import clear_output\n",
    "\n",
    "#board=['  ','  ','  ','  ','  ','  ','  ','  ','  ','  ']\n",
    "def display_board(board):\n",
    "    clear_output()\n",
    "    print('   |   |')\n",
    "    print(' ' + board[7]+' | '+board[8]+' | '+board[9])\n",
    "    print('   |   |')\n",
    "    print('--------=----')\n",
    "    print('   |   |')\n",
    "    print(' ' + board[4]+' | '+board[5]+' | '+board[6])\n",
    "    print('   |   |')\n",
    "    print('--------=----')\n",
    "    print('   |   |')\n",
    "    print(' ' + board[1]+' | '+board[2]+' | '+board[3])\n",
    "    print('   |   |')\n",
    "    "
   ]
  },
  {
   "cell_type": "code",
   "execution_count": 2,
   "metadata": {},
   "outputs": [],
   "source": [
    "def player_input():\n",
    "    \n",
    "    marker=''\n",
    "    \n",
    "    while marker!='X' and marker!='O':\n",
    "        \n",
    "        marker=input('Please choose  X or O: ')\n",
    "        \n",
    "    player1=marker\n",
    "    \n",
    "    if player1=='X':\n",
    "        player2='O'\n",
    "    else:\n",
    "        player2='X'\n",
    "        \n",
    "    return (player1,player2)\n",
    "\n"
   ]
  },
  {
   "cell_type": "code",
   "execution_count": null,
   "metadata": {},
   "outputs": [],
   "source": []
  },
  {
   "cell_type": "code",
   "execution_count": null,
   "metadata": {},
   "outputs": [],
   "source": []
  },
  {
   "cell_type": "code",
   "execution_count": null,
   "metadata": {},
   "outputs": [],
   "source": []
  },
  {
   "cell_type": "code",
   "execution_count": 3,
   "metadata": {},
   "outputs": [],
   "source": [
    "def place_marker(board,marker,position):\n",
    "    \n",
    "    board[position]=marker\n",
    "    "
   ]
  },
  {
   "cell_type": "code",
   "execution_count": 4,
   "metadata": {},
   "outputs": [],
   "source": [
    "def win_chk(board,mark):\n",
    "    \n",
    "    return ((board[1]==board[2]==board[3]==mark) or  \n",
    "            (board[4]==board[5]==board[6]==mark) or\n",
    "            (board[7]==board[8]==board[9]==mark) or\n",
    "            (board[7]==board[4]==board[1]==mark) or\n",
    "            (board[8]==board[5]==board[2]==mark) or\n",
    "            (board[9]==board[6]==board[3]==mark) or\n",
    "            (board[7]==board[5]==board[3]==mark) or\n",
    "            (board[9]==board[5]==board[1]==mark) \n",
    "           )\n"
   ]
  },
  {
   "cell_type": "code",
   "execution_count": 5,
   "metadata": {},
   "outputs": [],
   "source": [
    "import random\n",
    "\n",
    "def choose_first():\n",
    "    \n",
    "    flip=random.randint(0,1)\n",
    "    \n",
    "    if flip==0:\n",
    "        return 'Player 1'\n",
    "    else:\n",
    "        return 'Player 2'\n",
    "    \n",
    "    "
   ]
  },
  {
   "cell_type": "code",
   "execution_count": 6,
   "metadata": {},
   "outputs": [],
   "source": [
    "def space_chk(board,position):\n",
    "    \n",
    "    return board[position]==' '"
   ]
  },
  {
   "cell_type": "code",
   "execution_count": 7,
   "metadata": {},
   "outputs": [],
   "source": [
    "def full_board_chk(board):\n",
    "    \n",
    "    for i in range(0,10):\n",
    "        if space_chk(board,i):\n",
    "            return False\n",
    "    return True"
   ]
  },
  {
   "cell_type": "code",
   "execution_count": 8,
   "metadata": {},
   "outputs": [],
   "source": [
    "def player_choice(board):\n",
    "    \n",
    "    position=0\n",
    "    \n",
    "    while position not in [1,2,3,4,5,6,7,8,9] or not space_chk(board,position):\n",
    "        \n",
    "        position=int(input('Choose a position (1-9): '))\n",
    "        \n",
    "    return position"
   ]
  },
  {
   "cell_type": "code",
   "execution_count": 9,
   "metadata": {},
   "outputs": [],
   "source": [
    "def replay():\n",
    "    \n",
    "    choice= input('Play again ?, Enter Yes or No')\n",
    "    \n",
    "    return choice=='Yes'"
   ]
  },
  {
   "cell_type": "code",
   "execution_count": 10,
   "metadata": {},
   "outputs": [
    {
     "name": "stdout",
     "output_type": "stream",
     "text": [
      "   |   |\n",
      " X |   |  \n",
      "   |   |\n",
      "--------=----\n",
      "   |   |\n",
      " O | X | O\n",
      "   |   |\n",
      "--------=----\n",
      "   |   |\n",
      "   | O | X\n",
      "   |   |\n",
      "Player 2 has won !\n",
      "Play again ?, Enter Yes or No9\n"
     ]
    }
   ],
   "source": [
    "#while loop to keep runnig the game\n",
    "print('Welcome To TIC TAC TOE')\n",
    "\n",
    "while True:\n",
    "    \n",
    "    # Play the game\n",
    "    ## Set everything up(board,whose first, choose marker X,O)\n",
    "    \n",
    "    the_board=[' ']*10\n",
    "    \n",
    "    player1_marker,player2_marker=player_input()\n",
    "    \n",
    "    turn=choose_first()\n",
    "    \n",
    "    print(turn+' wil go first')\n",
    "    \n",
    "    play_game=input('Ready to play ? y or n?')\n",
    "    \n",
    "    if play_game == 'y':\n",
    "        game_on = True\n",
    "    else:\n",
    "        game_on = False\n",
    "        \n",
    "        \n",
    "    ## Game play\n",
    "    \n",
    "    while game_on:\n",
    "        \n",
    "        ## Player 1 turn\n",
    "        \n",
    "        if turn=='Player 1':\n",
    "            \n",
    "            #show the board\n",
    "            display_board(the_board)\n",
    "            \n",
    "            #choose a position\n",
    "            position=player_choice(the_board)\n",
    "            \n",
    "            #place a marker on position\n",
    "            place_marker(the_board,player1_marker,position)\n",
    "            \n",
    "            #chk if they won\n",
    "            if win_chk(the_board,player1_marker):\n",
    "                \n",
    "                display_board(the_board)\n",
    "                print('Player 1 has won !')\n",
    "                game_on=False\n",
    "                \n",
    "            else:\n",
    "                \n",
    "                if full_board_chk(the_board):\n",
    "                    display_board(the_board)\n",
    "                    print('Tie Game !')\n",
    "                    game_on=False\n",
    "                    \n",
    "                else:\n",
    "                    turn = 'Player 2'\n",
    "                \n",
    "        else:\n",
    "            \n",
    "            ## Player 2 turn\n",
    "            #show the board\n",
    "            display_board(the_board)\n",
    "            \n",
    "            #choose a position\n",
    "            position=player_choice(the_board)\n",
    "            \n",
    "            #place a marker on position\n",
    "            place_marker(the_board,player2_marker,position)\n",
    "            \n",
    "            #chk if they won\n",
    "            if win_chk(the_board,player2_marker):\n",
    "                \n",
    "                display_board(the_board)\n",
    "                print('Player 2 has won !')\n",
    "                game_on=False\n",
    "                \n",
    "            else:\n",
    "                \n",
    "                if full_board_chk(the_board):\n",
    "                    display_board(the_board)\n",
    "                    print('Tie Game !')\n",
    "                    game_on=False\n",
    "                    \n",
    "                else:\n",
    "                    turn = 'Player 1'\n",
    "    \n",
    "    \n",
    "    if not replay():\n",
    "        break\n",
    "\n",
    "    #break out of the while loop on replay()\n",
    " \n"
   ]
  },
  {
   "cell_type": "code",
   "execution_count": null,
   "metadata": {},
   "outputs": [],
   "source": [
    "\n",
    "\n"
   ]
  },
  {
   "cell_type": "code",
   "execution_count": null,
   "metadata": {},
   "outputs": [],
   "source": []
  }
 ],
 "metadata": {
  "kernelspec": {
   "display_name": "Python 3",
   "language": "python",
   "name": "python3"
  },
  "language_info": {
   "codemirror_mode": {
    "name": "ipython",
    "version": 3
   },
   "file_extension": ".py",
   "mimetype": "text/x-python",
   "name": "python",
   "nbconvert_exporter": "python",
   "pygments_lexer": "ipython3",
   "version": "3.7.3"
  }
 },
 "nbformat": 4,
 "nbformat_minor": 2
}
